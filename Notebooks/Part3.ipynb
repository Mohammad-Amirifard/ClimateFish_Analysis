{
  "cells": [
    {
      "cell_type": "code",
      "execution_count": null,
      "metadata": {
        "collapsed": true,
        "pycharm": {
          "name": "#%%\n",
          "is_executing": true
        },
        "id": "7Hr-ioKekYz-"
      },
      "outputs": [],
      "source": [
        "from google import drive\n",
        "drive.mount('/content')"
      ]
    },
    {
      "cell_type": "code",
      "execution_count": null,
      "outputs": [],
      "source": [
        "!cp ''"
      ],
      "metadata": {
        "pycharm": {
          "name": "#%%\n"
        },
        "id": "Hk3OGRntkY0A"
      }
    },
    {
      "cell_type": "code",
      "execution_count": null,
      "outputs": [],
      "source": [
        "import pandas as np"
      ],
      "metadata": {
        "pycharm": {
          "name": "#%%\n"
        },
        "id": "deaj6ZtlmLmE"
      }
    },
<<<<<<< HEAD
    "id": "deaj6ZtlmLmE"
   }
  },
  {
   "cell_type": "code",
   "source": [
    "print('Hi')\n",
    "print('another hi')\n",
    "print('see a confilct')\n",
    "print('Changed by moahammad')"
   ],
   "metadata": {
    "id": "lS_lzRZkmOOY",
    "pycharm": {
     "name": "#%%\n"
    }
   },
      "execution_count": null,
      "outputs": []
    },
    {
      "cell_type": "code",
      "source": [
        "print('Changed by ali')"
      ],
      "metadata": {
        "id": "XTBH00cJr86i"
      },
   "execution_count": null,
   "outputs": []
  }
 ],
 "metadata": {
  "kernelspec": {
   "display_name": "Python 3",
   "language": "python",
   "name": "python3"
=======
    {
      "cell_type": "code",
      "source": [
        "print('Hi')\n",
        "print('another hi')\n",
        "print('see a confilct')"
      ],
      "metadata": {
        "id": "lS_lzRZkmOOY",
        "pycharm": {
          "name": "#%%\n"
        }
      },
      "execution_count": null,
      "outputs": []
    },
    {
      "cell_type": "code",
      "source": [
        "print('Changed by ali')"
      ],
      "metadata": {
        "id": "XTBH00cJr86i"
      },
      "execution_count": null,
      "outputs": []
    }
  ],
  "metadata": {
    "kernelspec": {
      "display_name": "Python 3",
      "language": "python",
      "name": "python3"
    },
    "language_info": {
      "codemirror_mode": {
        "name": "ipython",
        "version": 2
      },
      "file_extension": ".py",
      "mimetype": "text/x-python",
      "name": "python",
      "nbconvert_exporter": "python",
      "pygments_lexer": "ipython2",
      "version": "2.7.6"
    },
    "colab": {
      "provenance": []
    }
>>>>>>> 08fd0b7be42b9c07823fa441aa91f8e574ac5124
  },
  "nbformat": 4,
  "nbformat_minor": 0
}