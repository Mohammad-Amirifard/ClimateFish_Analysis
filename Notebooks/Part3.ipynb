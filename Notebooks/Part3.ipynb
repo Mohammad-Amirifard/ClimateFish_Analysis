{
  "cells": [
    {
      "cell_type": "code",
      "execution_count": null,
      "metadata": {
        "collapsed": true,
        "pycharm": {
          "name": "#%%\n",
          "is_executing": true
        },
        "id": "7Hr-ioKekYz-"
      },
      "outputs": [],
      "source": [
        "from google import drive\n",
        "drive.mount('/content')"
      ]
    },
    {
      "cell_type": "code",
      "execution_count": null,
      "outputs": [],
      "source": [
        "!cp ''"
      ],
      "metadata": {
        "pycharm": {
          "name": "#%%\n"
        },
        "id": "Hk3OGRntkY0A"
      }
    },
    {
      "cell_type": "code",
      "source": [
        "import pandas as np"
      ],
      "metadata": {
        "id": "0fjrq1L3kZ1R"
      },
      "execution_count": null,
      "outputs": []
    }
  ],
  "metadata": {
    "kernelspec": {
      "display_name": "Python 3",
      "language": "python",
      "name": "python3"
    },
    "language_info": {
      "codemirror_mode": {
        "name": "ipython",
        "version": 2
      },
      "file_extension": ".py",
      "mimetype": "text/x-python",
      "name": "python",
      "nbconvert_exporter": "python",
      "pygments_lexer": "ipython2",
      "version": "2.7.6"
    },
    "colab": {
      "provenance": []
    }
  },
  "nbformat": 4,
  "nbformat_minor": 0
}